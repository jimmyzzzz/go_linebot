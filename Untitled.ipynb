{
 "cells": [
  {
   "cell_type": "code",
   "execution_count": null,
   "id": "e1cfc1a8-20d6-4967-adf6-298c0554c5a6",
   "metadata": {},
   "outputs": [],
   "source": []
  },
  {
   "cell_type": "code",
   "execution_count": null,
   "id": "949ffec8-8fd8-4935-8078-6d00595c5318",
   "metadata": {},
   "outputs": [],
   "source": []
  },
  {
   "cell_type": "code",
   "execution_count": 4,
   "id": "b54338a3-2ad1-49df-b5a3-1cdf523102cd",
   "metadata": {
    "tags": []
   },
   "outputs": [],
   "source": [
    "\n",
    "import importlib\n",
    "\n",
    "def load_env_module(first_line):\n",
    "    first_line_list=first_line.split()\n",
    "    env=first_line_list[1]\n",
    "    env_module=importlib.import_module(env)\n",
    "    return env_module\n",
    "    \n",
    "def is_command(first_line):\n",
    "    # remove both sides spaces\n",
    "    new_first_line=first_line.strip()\n",
    "    \n",
    "    if new_first_line[0]!='%': return False\n",
    "    if new_first_line[-1]!='%': return False\n",
    "    return True\n",
    "\n",
    "def file_to_root(path):\n",
    "    with open(path,'r') as f:\n",
    "        first_line = f.readline()\n",
    "        \n",
    "        if not is_command(first_line): return\n",
    "    \n",
    "        env_module = load_env_module(first_line)\n",
    "        \n",
    "        title_cmd = first_line\n",
    "        main_cmds = f.readlines()\n",
    "        root=env_module.root_blk(\n",
    "            env_module=env_module,\n",
    "            title_cmd=title_cmd,\n",
    "            main_cmds=main_cmds\n",
    "        )\n",
    "        \n",
    "        print(root.run())"
   ]
  },
  {
   "cell_type": "code",
   "execution_count": 10,
   "id": "2c4117e4-510a-4afd-af84-79f1f2feb847",
   "metadata": {
    "tags": []
   },
   "outputs": [
    {
     "name": "stdout",
     "output_type": "stream",
     "text": [
      "環境參數:  ['hello_env', 'room=33']\n",
      "變數a=1, 變數b=2\n"
     ]
    }
   ],
   "source": [
    "file_to_root('./hello.txt')"
   ]
  },
  {
   "cell_type": "code",
   "execution_count": 9,
   "id": "b638ee6a-7027-4337-b15e-4f1ec50bdfe8",
   "metadata": {},
   "outputs": [
    {
     "name": "stdout",
     "output_type": "stream",
     "text": [
      "環境參數:  ['hello_env', 'room=22']\n",
      "大聲說:  ... 1 ...\n",
      "大聲說:  ... 4 ...\n",
      "\n"
     ]
    }
   ],
   "source": [
    "file_to_root('./test.txt')"
   ]
  },
  {
   "cell_type": "code",
   "execution_count": null,
   "id": "5b4b84ac-e6f4-47b8-a79e-e9eabf57065e",
   "metadata": {},
   "outputs": [],
   "source": []
  },
  {
   "cell_type": "code",
   "execution_count": 1,
   "id": "35fc7a37-e308-49e8-a9bb-32f0145aad82",
   "metadata": {},
   "outputs": [],
   "source": [
    "\n",
    "import importlib\n",
    "\n",
    "def load_env_module(first_line):\n",
    "    first_line_list=first_line.split()\n",
    "    env=first_line_list[1]\n",
    "    env_module=importlib.import_module(env)\n",
    "    return env_module\n",
    "\n",
    "def is_command(cmd_str):\n",
    "    if cmd_str[0]!='%': return False\n",
    "    for c in cmd_str[1:]:\n",
    "        if c=='%': return True\n",
    "    return False\n",
    "\n",
    "def str_to_root(cmd_str):\n",
    "    if not is_command(cmd_str): return\n",
    "    \n",
    "    cmds=cmd_str.split('\\n')\n",
    "    env_cmd=cmds[0]\n",
    "    main_cmds=cmds[1:]\n",
    "    \n",
    "    env_module=load_env_module(env_cmd)\n",
    "    root=env_module.root_blk(\n",
    "        env_module=env_module,\n",
    "        title_cmd=env_cmd,\n",
    "        main_cmds=main_cmds\n",
    "    )\n",
    "    \n",
    "    return root.run()\n",
    "    \n",
    "def cmds_portal(cmd_str):\n",
    "    try:\n",
    "        return_str=str_to_root(cmd_str)\n",
    "        if return_str: return (True, return_str)\n",
    "        return (False, return_str)\n",
    "    \n",
    "    except Exception as er:\n",
    "        error_m=f\"Error:\\n{er}\"\n",
    "        return (True, error_m)"
   ]
  },
  {
   "cell_type": "code",
   "execution_count": 2,
   "id": "7b9ddf05-71e8-4cab-add0-071773c4115a",
   "metadata": {},
   "outputs": [
    {
     "name": "stdout",
     "output_type": "stream",
     "text": [
      "True\n",
      "大聲說: ha ha ha\n",
      "大聲說: hi iii iii\n",
      "\n"
     ]
    }
   ],
   "source": [
    "r,m=cmds_portal('% hello_env  %\\n下面會講話\\n say: ha ha ha \\n say : hi iii iii \\n')\n",
    "print(r)\n",
    "print(m)"
   ]
  },
  {
   "cell_type": "code",
   "execution_count": null,
   "id": "bdc9e411-f571-4eba-a7f2-6211a5e0e812",
   "metadata": {},
   "outputs": [],
   "source": []
  },
  {
   "cell_type": "code",
   "execution_count": 28,
   "id": "fb01d5cd-b99e-4fee-809f-834f955816b7",
   "metadata": {},
   "outputs": [
    {
     "name": "stdout",
     "output_type": "stream",
     "text": [
      "a\n",
      " b\n",
      "\n"
     ]
    }
   ],
   "source": [
    "print('a\\n b\\n')"
   ]
  },
  {
   "cell_type": "code",
   "execution_count": null,
   "id": "576cb22f-e332-44b1-a4a6-4e386a0b513e",
   "metadata": {},
   "outputs": [],
   "source": []
  },
  {
   "cell_type": "code",
   "execution_count": null,
   "id": "0dbacd38-58b9-46bd-a6cc-22f1ac42910a",
   "metadata": {},
   "outputs": [],
   "source": []
  },
  {
   "cell_type": "code",
   "execution_count": 21,
   "id": "3579e617-93b9-47f4-9976-7ef8618a732c",
   "metadata": {},
   "outputs": [
    {
     "data": {
      "text/plain": [
       "<module 'hello_env' from '/mnt/c/Users/scien/Documents/go_linebot/hello_env.py'>"
      ]
     },
     "execution_count": 21,
     "metadata": {},
     "output_type": "execute_result"
    }
   ],
   "source": [
    "import importlib\n",
    "m=importlib.import_module('hello_env')\n",
    "m"
   ]
  },
  {
   "cell_type": "code",
   "execution_count": 22,
   "id": "51b0ea0a-568e-4ad4-bb11-d7800732c9e7",
   "metadata": {},
   "outputs": [
    {
     "data": {
      "text/plain": [
       "<function hello_env.say(call, cmd)>"
      ]
     },
     "execution_count": 22,
     "metadata": {},
     "output_type": "execute_result"
    }
   ],
   "source": [
    "m.say"
   ]
  },
  {
   "cell_type": "code",
   "execution_count": null,
   "id": "61f3fb9d-7c64-49bb-b9b1-e67996543dcd",
   "metadata": {},
   "outputs": [],
   "source": []
  },
  {
   "cell_type": "code",
   "execution_count": null,
   "id": "712d8233-3122-4b6a-af28-16a57f4fa3e7",
   "metadata": {},
   "outputs": [],
   "source": []
  },
  {
   "cell_type": "code",
   "execution_count": 1,
   "id": "9d5bae40-5616-423d-9808-4a75a7a63fba",
   "metadata": {},
   "outputs": [
    {
     "data": {
      "text/plain": [
       "(False, None)"
      ]
     },
     "execution_count": 1,
     "metadata": {},
     "output_type": "execute_result"
    }
   ],
   "source": [
    "from cmd_to_root import cmds_portal\n",
    "import time\n",
    "\n",
    "cmds_portal('% hello_env  \\n下面會講話\\n say: ha ha ha \\n say : hi iii iii \\n')"
   ]
  },
  {
   "cell_type": "code",
   "execution_count": 2,
   "id": "42f63b2c-1993-40b9-b15d-d0aacfb5787a",
   "metadata": {},
   "outputs": [
    {
     "name": "stdout",
     "output_type": "stream",
     "text": [
      "['%', 'hello_env', '%']\n"
     ]
    },
    {
     "data": {
      "text/plain": [
       "(True, '大聲說: ha ha ha\\n大聲說: hi iii iii\\n')"
      ]
     },
     "execution_count": 2,
     "metadata": {},
     "output_type": "execute_result"
    }
   ],
   "source": [
    "cmds_portal('%hello_env%\\n下面會講話\\n say: ha ha ha \\n say : hi iii iii \\n')"
   ]
  },
  {
   "cell_type": "code",
   "execution_count": 3,
   "id": "90d52973-606f-48db-a3e0-58c79c3c3881",
   "metadata": {},
   "outputs": [
    {
     "data": {
      "text/plain": [
       "(False, None)"
      ]
     },
     "execution_count": 3,
     "metadata": {},
     "output_type": "execute_result"
    }
   ],
   "source": [
    "cmds_portal('hello_env  %\\n下面會講話\\n say: ha ha ha \\n say : hi iii iii \\n')"
   ]
  },
  {
   "cell_type": "code",
   "execution_count": 6,
   "id": "baca6d89-b98f-4a7a-9866-fefb6e11846b",
   "metadata": {},
   "outputs": [
    {
     "data": {
      "text/plain": [
       "(True, \"Error:\\nNo module named 'hell_env'\")"
      ]
     },
     "execution_count": 6,
     "metadata": {},
     "output_type": "execute_result"
    }
   ],
   "source": [
    "cmds_portal('% hell_env  %\\n下面會講話\\n say: ha ha ha \\n say : hi iii iii \\n')"
   ]
  },
  {
   "cell_type": "code",
   "execution_count": null,
   "id": "79bc5878-737e-41b1-8294-d7428f08ee5a",
   "metadata": {},
   "outputs": [],
   "source": []
  },
  {
   "cell_type": "code",
   "execution_count": null,
   "id": "8ebc4614-343e-4711-a415-077871fea407",
   "metadata": {},
   "outputs": [],
   "source": []
  },
  {
   "cell_type": "code",
   "execution_count": 3,
   "id": "f33386be-ced4-433a-ba7a-1297bd3b9175",
   "metadata": {},
   "outputs": [
    {
     "name": "stdout",
     "output_type": "stream",
     "text": [
      "! True\n",
      "大聲說: 你好！\n",
      "====================\n",
      "Error[1] at say2:你好！\n",
      "module 'hello_env' has no attribute 'say2'\n"
     ]
    }
   ],
   "source": [
    "from cmd_to_root import cmds_portal\n",
    "from cmd_to_root import file_portal\n",
    "\n",
    "path='test.txt'\n",
    "c,r=file_portal(path)\n",
    "print('!', c)\n",
    "print(r)"
   ]
  },
  {
   "cell_type": "code",
   "execution_count": 1,
   "id": "f1642628-6649-4ad8-8c0b-3a84aeaee983",
   "metadata": {},
   "outputs": [
    {
     "ename": "NameError",
     "evalue": "name 'path' is not defined",
     "output_type": "error",
     "traceback": [
      "\u001b[0;31m---------------------------------------------------------------------------\u001b[0m",
      "\u001b[0;31mNameError\u001b[0m                                 Traceback (most recent call last)",
      "Input \u001b[0;32mIn [1]\u001b[0m, in \u001b[0;36m<cell line: 1>\u001b[0;34m()\u001b[0m\n\u001b[0;32m----> 1\u001b[0m \u001b[38;5;28;01mwith\u001b[39;00m \u001b[38;5;28mopen\u001b[39m(\u001b[43mpath\u001b[49m,\u001b[38;5;124m'\u001b[39m\u001b[38;5;124mr\u001b[39m\u001b[38;5;124m'\u001b[39m) \u001b[38;5;28;01mas\u001b[39;00m f:\n\u001b[1;32m      2\u001b[0m     cmds\u001b[38;5;241m=\u001b[39mf\u001b[38;5;241m.\u001b[39mread()\n\u001b[1;32m      3\u001b[0m     \u001b[38;5;28mprint\u001b[39m(cmds)\n",
      "\u001b[0;31mNameError\u001b[0m: name 'path' is not defined"
     ]
    }
   ],
   "source": [
    "\n",
    "\n",
    "with open(path,'r') as f:\n",
    "    cmds=f.read()\n",
    "    print(cmds)"
   ]
  },
  {
   "cell_type": "code",
   "execution_count": 3,
   "id": "a3211ebd-ede0-43ae-8aa2-072aee765426",
   "metadata": {},
   "outputs": [],
   "source": [
    "import cmd_to_root"
   ]
  },
  {
   "cell_type": "code",
   "execution_count": 4,
   "id": "6f83599a-097c-433b-b761-2a0912e55036",
   "metadata": {},
   "outputs": [
    {
     "data": {
      "text/plain": [
       "'cmd_to_root'"
      ]
     },
     "execution_count": 4,
     "metadata": {},
     "output_type": "execute_result"
    }
   ],
   "source": [
    "cmd_to_root.__name__"
   ]
  },
  {
   "cell_type": "code",
   "execution_count": null,
   "id": "b54b1ca4-5207-4c1e-a222-d622be518a8a",
   "metadata": {},
   "outputs": [],
   "source": [
    "continue"
   ]
  }
 ],
 "metadata": {
  "kernelspec": {
   "display_name": "Python 3 (ipykernel)",
   "language": "python",
   "name": "python3"
  },
  "language_info": {
   "codemirror_mode": {
    "name": "ipython",
    "version": 3
   },
   "file_extension": ".py",
   "mimetype": "text/x-python",
   "name": "python",
   "nbconvert_exporter": "python",
   "pygments_lexer": "ipython3",
   "version": "3.10.4"
  }
 },
 "nbformat": 4,
 "nbformat_minor": 5
}
