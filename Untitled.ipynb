{
 "cells": [
  {
   "cell_type": "code",
   "execution_count": null,
   "id": "e1cfc1a8-20d6-4967-adf6-298c0554c5a6",
   "metadata": {},
   "outputs": [],
   "source": []
  },
  {
   "cell_type": "code",
   "execution_count": null,
   "id": "949ffec8-8fd8-4935-8078-6d00595c5318",
   "metadata": {},
   "outputs": [],
   "source": []
  },
  {
   "cell_type": "code",
   "execution_count": 4,
   "id": "b54338a3-2ad1-49df-b5a3-1cdf523102cd",
   "metadata": {
    "tags": []
   },
   "outputs": [],
   "source": [
    "\n",
    "def load_env_module(first_line):\n",
    "    first_line_list=first_line.split()\n",
    "    env=first_line_list[1]\n",
    "    env_module=__import__(env)\n",
    "    return env_module\n",
    "    \n",
    "def is_command(first_line):\n",
    "    # remove both sides spaces\n",
    "    new_first_line=first_line.strip()\n",
    "    \n",
    "    if new_first_line[0]!='%': return False\n",
    "    if new_first_line[-1]!='%': return False\n",
    "    return True\n",
    "\n",
    "def file_to_root(path):\n",
    "    with open(path,'r') as f:\n",
    "        first_line = f.readline()\n",
    "        \n",
    "        if not is_command(first_line): return\n",
    "    \n",
    "        env_module = load_env_module(first_line)\n",
    "        \n",
    "        title_cmd = first_line\n",
    "        main_cmds = f.readlines()\n",
    "        root=env_module.root_blk(\n",
    "            env_module=env_module,\n",
    "            title_cmd=title_cmd,\n",
    "            main_cmds=main_cmds\n",
    "        )\n",
    "        print(root.run())\n",
    "            "
   ]
  },
  {
   "cell_type": "code",
   "execution_count": 10,
   "id": "2c4117e4-510a-4afd-af84-79f1f2feb847",
   "metadata": {
    "tags": []
   },
   "outputs": [
    {
     "name": "stdout",
     "output_type": "stream",
     "text": [
      "環境參數:  ['hello_env', 'room=33']\n",
      "變數a=1, 變數b=2\n"
     ]
    }
   ],
   "source": [
    "file_to_root('./hello.txt')"
   ]
  },
  {
   "cell_type": "code",
   "execution_count": null,
   "id": "576cb22f-e332-44b1-a4a6-4e386a0b513e",
   "metadata": {},
   "outputs": [],
   "source": []
  },
  {
   "cell_type": "code",
   "execution_count": 9,
   "id": "b638ee6a-7027-4337-b15e-4f1ec50bdfe8",
   "metadata": {},
   "outputs": [
    {
     "name": "stdout",
     "output_type": "stream",
     "text": [
      "環境參數:  ['hello_env', 'room=22']\n",
      "大聲說:  ... 1 ...\n",
      "大聲說:  ... 4 ...\n",
      "\n"
     ]
    }
   ],
   "source": [
    "file_to_root('./test.txt')"
   ]
  },
  {
   "cell_type": "code",
   "execution_count": null,
   "id": "9b98d13d-a497-49cf-bca1-a7230e466635",
   "metadata": {},
   "outputs": [],
   "source": []
  }
 ],
 "metadata": {
  "kernelspec": {
   "display_name": "Python 3 (ipykernel)",
   "language": "python",
   "name": "python3"
  },
  "language_info": {
   "codemirror_mode": {
    "name": "ipython",
    "version": 3
   },
   "file_extension": ".py",
   "mimetype": "text/x-python",
   "name": "python",
   "nbconvert_exporter": "python",
   "pygments_lexer": "ipython3",
   "version": "3.10.4"
  }
 },
 "nbformat": 4,
 "nbformat_minor": 5
}
