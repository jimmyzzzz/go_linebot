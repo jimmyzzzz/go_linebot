{
 "cells": [
  {
   "cell_type": "code",
   "execution_count": null,
   "id": "979ffe07-dfb2-4b14-9608-a223402cea1b",
   "metadata": {},
   "outputs": [],
   "source": []
  },
  {
   "cell_type": "code",
   "execution_count": null,
   "id": "30486f32-a80c-4ae9-a86a-26b642f8efc3",
   "metadata": {},
   "outputs": [],
   "source": []
  },
  {
   "cell_type": "code",
   "execution_count": 2,
   "id": "71db291e-73e5-4cc2-ad16-5507e62180d7",
   "metadata": {},
   "outputs": [
    {
     "data": {
      "text/plain": [
       "[]"
      ]
     },
     "execution_count": 2,
     "metadata": {},
     "output_type": "execute_result"
    }
   ],
   "source": [
    "[1][1:]"
   ]
  },
  {
   "cell_type": "code",
   "execution_count": 3,
   "id": "ce26e079-4c00-4beb-839a-616170ba19fe",
   "metadata": {},
   "outputs": [
    {
     "data": {
      "text/plain": [
       "(1, 2)"
      ]
     },
     "execution_count": 3,
     "metadata": {},
     "output_type": "execute_result"
    }
   ],
   "source": [
    "x,y = [1,2]\n",
    "x, y"
   ]
  },
  {
   "cell_type": "code",
   "execution_count": null,
   "id": "7eba392e-d3ca-4c8f-bd4c-fba80c7a555e",
   "metadata": {},
   "outputs": [],
   "source": [
    "ValueError()"
   ]
  },
  {
   "cell_type": "code",
   "execution_count": null,
   "id": "1e80943b-668b-4ebd-bfc4-664e5c966e74",
   "metadata": {},
   "outputs": [],
   "source": []
  },
  {
   "cell_type": "code",
   "execution_count": 4,
   "id": "238715b1-4fbb-450c-b227-05ad6bacb189",
   "metadata": {},
   "outputs": [],
   "source": [
    "class A:pass\n",
    "class AA(A): pass"
   ]
  },
  {
   "cell_type": "code",
   "execution_count": 7,
   "id": "0e4f619d-eef3-4956-87ec-e47d9dad2c10",
   "metadata": {},
   "outputs": [
    {
     "data": {
      "text/plain": [
       "True"
      ]
     },
     "execution_count": 7,
     "metadata": {},
     "output_type": "execute_result"
    }
   ],
   "source": [
    "issubclass(AA, A)"
   ]
  },
  {
   "cell_type": "code",
   "execution_count": 1,
   "id": "212ab1f4-7e3f-41c2-ad51-00bf42f6c1c0",
   "metadata": {},
   "outputs": [
    {
     "name": "stdout",
     "output_type": "stream",
     "text": [
      "True\n"
     ]
    }
   ],
   "source": [
    "from kernal import read_file\n",
    "\n",
    "c,r = read_file('./test_env.txt')\n",
    "print(c)"
   ]
  },
  {
   "cell_type": "code",
   "execution_count": 2,
   "id": "80af7ae1-a250-42d8-af85-96cf39fe5678",
   "metadata": {},
   "outputs": [
    {
     "name": "stdout",
     "output_type": "stream",
     "text": [
      "hello 123\n",
      "x=1, y={x}\n",
      "bye 123\n",
      "\n"
     ]
    }
   ],
   "source": [
    "print(r)"
   ]
  },
  {
   "cell_type": "code",
   "execution_count": 3,
   "id": "00575f47-8e02-45c1-a199-6cecb3b0f45d",
   "metadata": {
    "collapsed": true,
    "jupyter": {
     "outputs_hidden": true
    },
    "tags": []
   },
   "outputs": [
    {
     "ename": "TypeError",
     "evalue": "'str' object does not support item assignment",
     "output_type": "error",
     "traceback": [
      "\u001b[0;31m---------------------------------------------------------------------------\u001b[0m",
      "\u001b[0;31mTypeError\u001b[0m                                 Traceback (most recent call last)",
      "Input \u001b[0;32mIn [3]\u001b[0m, in \u001b[0;36m<cell line: 2>\u001b[0;34m()\u001b[0m\n\u001b[1;32m      1\u001b[0m s \u001b[38;5;241m=\u001b[39m \u001b[38;5;124m'\u001b[39m\u001b[38;5;124m11111\u001b[39m\u001b[38;5;124m'\u001b[39m\n\u001b[0;32m----> 2\u001b[0m s[\u001b[38;5;241m-\u001b[39m\u001b[38;5;241m1\u001b[39m]\u001b[38;5;241m=\u001b[39m\u001b[38;5;124m'\u001b[39m\u001b[38;5;124m2\u001b[39m\u001b[38;5;124m'\u001b[39m\n\u001b[1;32m      3\u001b[0m s\n",
      "\u001b[0;31mTypeError\u001b[0m: 'str' object does not support item assignment"
     ]
    }
   ],
   "source": [
    "s = '11111'\n",
    "s[-1]='2'\n",
    "s"
   ]
  },
  {
   "cell_type": "code",
   "execution_count": 1,
   "id": "f5b7c46f-c7de-4e6d-90e0-4937fd1072e7",
   "metadata": {},
   "outputs": [
    {
     "name": "stdout",
     "output_type": "stream",
     "text": [
      "fp_list=[]\n",
      "\n",
      "True\n"
     ]
    }
   ],
   "source": [
    "from kernal import read_file\n",
    "\n",
    "c,r = read_file('./test_note.txt')\n",
    "print(c)"
   ]
  },
  {
   "cell_type": "code",
   "execution_count": 2,
   "id": "efca3c5c-b229-42c4-9ee1-023d7083ed98",
   "metadata": {},
   "outputs": [
    {
     "name": "stdout",
     "output_type": "stream",
     "text": [
      "save to my_dir1/my_dir2\n",
      "\n"
     ]
    }
   ],
   "source": [
    "print(r)"
   ]
  },
  {
   "cell_type": "code",
   "execution_count": 12,
   "id": "8d51aff1-1924-4c0a-be95-3210273b7310",
   "metadata": {},
   "outputs": [
    {
     "data": {
      "text/plain": [
       "\"['1', '2', '3', '\\\\n']\""
      ]
     },
     "execution_count": 12,
     "metadata": {},
     "output_type": "execute_result"
    }
   ],
   "source": [
    "s=\"123\\n\"\n",
    "list(f'{s}').__str__()"
   ]
  },
  {
   "cell_type": "code",
   "execution_count": 13,
   "id": "82d7abef-088b-4acb-9635-cda4854acfec",
   "metadata": {},
   "outputs": [],
   "source": [
    "path = 'output.txt'\n",
    "f = open(path, 'a')"
   ]
  },
  {
   "cell_type": "code",
   "execution_count": 14,
   "id": "ab6fce47-2247-4389-9938-c67b47c8f9d0",
   "metadata": {},
   "outputs": [
    {
     "data": {
      "text/plain": [
       "4"
      ]
     },
     "execution_count": 14,
     "metadata": {},
     "output_type": "execute_result"
    }
   ],
   "source": [
    "s=\"123\\n\"\n",
    "f.write(s)"
   ]
  },
  {
   "cell_type": "code",
   "execution_count": 15,
   "id": "065338de-af28-4821-aa37-ab2b9972ba26",
   "metadata": {},
   "outputs": [
    {
     "data": {
      "text/plain": [
       "4"
      ]
     },
     "execution_count": 15,
     "metadata": {},
     "output_type": "execute_result"
    }
   ],
   "source": [
    "s=\"123\\n\"\n",
    "f.write(s)"
   ]
  },
  {
   "cell_type": "code",
   "execution_count": 16,
   "id": "31198995-8f04-4f37-9eec-b5b8a11b8265",
   "metadata": {},
   "outputs": [],
   "source": [
    "f.close()"
   ]
  },
  {
   "cell_type": "code",
   "execution_count": 9,
   "id": "97505331-26b6-4486-9efe-089f1dcdd5e3",
   "metadata": {},
   "outputs": [
    {
     "ename": "IndexError",
     "evalue": "string index out of range",
     "output_type": "error",
     "traceback": [
      "\u001b[0;31m---------------------------------------------------------------------------\u001b[0m",
      "\u001b[0;31mIndexError\u001b[0m                                Traceback (most recent call last)",
      "Input \u001b[0;32mIn [9]\u001b[0m, in \u001b[0;36m<cell line: 1>\u001b[0;34m()\u001b[0m\n\u001b[0;32m----> 1\u001b[0m \u001b[38;5;28;01mif\u001b[39;00m \u001b[38;5;28;01mTrue\u001b[39;00m \u001b[38;5;129;01mand\u001b[39;00m \u001b[38;5;124;43m'\u001b[39;49m\u001b[38;5;124;43m'\u001b[39;49m\u001b[43m[\u001b[49m\u001b[38;5;241;43m-\u001b[39;49m\u001b[38;5;241;43m1\u001b[39;49m\u001b[43m]\u001b[49m\u001b[38;5;241m==\u001b[39m\u001b[38;5;124m'\u001b[39m\u001b[38;5;124m'\u001b[39m:\n\u001b[1;32m      2\u001b[0m     \u001b[38;5;28mprint\u001b[39m(\u001b[38;5;241m111\u001b[39m)\n",
      "\u001b[0;31mIndexError\u001b[0m: string index out of range"
     ]
    }
   ],
   "source": [
    "if True and ''[-1]=='':\n",
    "    print(111)"
   ]
  },
  {
   "cell_type": "code",
   "execution_count": 1,
   "id": "d9a117fa-1961-4530-9500-f5e776bd3eb2",
   "metadata": {},
   "outputs": [
    {
     "ename": "ModuleNotFoundError",
     "evalue": "No module named 'import_test'",
     "output_type": "error",
     "traceback": [
      "\u001b[0;31m---------------------------------------------------------------------------\u001b[0m",
      "\u001b[0;31mModuleNotFoundError\u001b[0m                       Traceback (most recent call last)",
      "Input \u001b[0;32mIn [1]\u001b[0m, in \u001b[0;36m<cell line: 6>\u001b[0;34m()\u001b[0m\n\u001b[1;32m      2\u001b[0m \u001b[38;5;28;01mimport\u001b[39;00m \u001b[38;5;21;01msys\u001b[39;00m\n\u001b[1;32m      4\u001b[0m sys\u001b[38;5;241m.\u001b[39mpath\u001b[38;5;241m.\u001b[39mappend(\u001b[38;5;124m\"\u001b[39m\u001b[38;5;124m./python_root\u001b[39m\u001b[38;5;124m\"\u001b[39m)\n\u001b[0;32m----> 6\u001b[0m root \u001b[38;5;241m=\u001b[39m \u001b[43mimportlib\u001b[49m\u001b[38;5;241;43m.\u001b[39;49m\u001b[43mimport_module\u001b[49m\u001b[43m(\u001b[49m\u001b[38;5;124;43m'\u001b[39;49m\u001b[38;5;124;43mimport_test\u001b[39;49m\u001b[38;5;124;43m'\u001b[39;49m\u001b[43m)\u001b[49m\n\u001b[1;32m      7\u001b[0m root\n",
      "File \u001b[0;32m~/anaconda3/envs/myenv/lib/python3.10/importlib/__init__.py:126\u001b[0m, in \u001b[0;36mimport_module\u001b[0;34m(name, package)\u001b[0m\n\u001b[1;32m    124\u001b[0m             \u001b[38;5;28;01mbreak\u001b[39;00m\n\u001b[1;32m    125\u001b[0m         level \u001b[38;5;241m+\u001b[39m\u001b[38;5;241m=\u001b[39m \u001b[38;5;241m1\u001b[39m\n\u001b[0;32m--> 126\u001b[0m \u001b[38;5;28;01mreturn\u001b[39;00m \u001b[43m_bootstrap\u001b[49m\u001b[38;5;241;43m.\u001b[39;49m\u001b[43m_gcd_import\u001b[49m\u001b[43m(\u001b[49m\u001b[43mname\u001b[49m\u001b[43m[\u001b[49m\u001b[43mlevel\u001b[49m\u001b[43m:\u001b[49m\u001b[43m]\u001b[49m\u001b[43m,\u001b[49m\u001b[43m \u001b[49m\u001b[43mpackage\u001b[49m\u001b[43m,\u001b[49m\u001b[43m \u001b[49m\u001b[43mlevel\u001b[49m\u001b[43m)\u001b[49m\n",
      "File \u001b[0;32m<frozen importlib._bootstrap>:1050\u001b[0m, in \u001b[0;36m_gcd_import\u001b[0;34m(name, package, level)\u001b[0m\n",
      "File \u001b[0;32m<frozen importlib._bootstrap>:1027\u001b[0m, in \u001b[0;36m_find_and_load\u001b[0;34m(name, import_)\u001b[0m\n",
      "File \u001b[0;32m<frozen importlib._bootstrap>:1004\u001b[0m, in \u001b[0;36m_find_and_load_unlocked\u001b[0;34m(name, import_)\u001b[0m\n",
      "\u001b[0;31mModuleNotFoundError\u001b[0m: No module named 'import_test'"
     ]
    }
   ],
   "source": [
    "import importlib\n",
    "import sys\n",
    "\n",
    "sys.path.append(\"./python_root\")\n",
    "\n",
    "root = importlib.import_module('import_test')\n",
    "root"
   ]
  },
  {
   "cell_type": "code",
   "execution_count": null,
   "id": "a4d96cc6-a39d-4e55-b386-299eb5a0cb30",
   "metadata": {},
   "outputs": [],
   "source": [
    "root.import_test"
   ]
  },
  {
   "cell_type": "code",
   "execution_count": null,
   "id": "0cfefa23-98ae-4a48-9293-bbf903599e43",
   "metadata": {},
   "outputs": [],
   "source": [
    "\"oeoo : meppp %  \".strip().split('%')"
   ]
  },
  {
   "cell_type": "code",
   "execution_count": null,
   "id": "0bb37e14-1a51-48d9-9a49-cd919dc142e7",
   "metadata": {},
   "outputs": [],
   "source": []
  },
  {
   "cell_type": "code",
   "execution_count": 1,
   "id": "7d609704-ab67-4063-9c76-f6fc528f87ff",
   "metadata": {},
   "outputs": [],
   "source": [
    "from static_kernal import PythonKernal\n",
    "\n",
    "pyk = PythonKernal()"
   ]
  },
  {
   "cell_type": "code",
   "execution_count": 2,
   "id": "76ff5988-c93b-40a8-a6e4-3ff2b9eb3562",
   "metadata": {},
   "outputs": [],
   "source": []
  },
  {
   "cell_type": "code",
   "execution_count": 6,
   "id": "4b0c03b4-6f24-4f64-8534-48c18babcd43",
   "metadata": {},
   "outputs": [],
   "source": [
    "event = fake_event(\"% st_hello %\\nhello: ssss ss\\nhello: wnino le\")"
   ]
  },
  {
   "cell_type": "code",
   "execution_count": 7,
   "id": "3c4da613-e325-4512-9c7d-22ecafc712d8",
   "metadata": {},
   "outputs": [
    {
     "name": "stdout",
     "output_type": "stream",
     "text": [
      "To 123\n",
      "\n",
      "[]\n",
      "\n",
      "*********************\n",
      "\n",
      "[('hello', 'ssss ss'), ('hello', 'wnino le')]\n",
      "hello ssss ss\n",
      "\n",
      "hello wnino le\n",
      "\n"
     ]
    },
    {
     "data": {
      "text/plain": [
       "True"
      ]
     },
     "execution_count": 7,
     "metadata": {},
     "output_type": "execute_result"
    }
   ],
   "source": [
    "c, r = pyk.run(event)\n",
    "c"
   ]
  },
  {
   "cell_type": "code",
   "execution_count": 8,
   "id": "ae255c98-5dba-42ba-ab0a-ebf071541e5e",
   "metadata": {},
   "outputs": [
    {
     "name": "stdout",
     "output_type": "stream",
     "text": [
      "To 123\n",
      "[]\n",
      "*********************\n",
      "hello ssss ss\n",
      "hello wnino le\n",
      "\n"
     ]
    }
   ],
   "source": [
    "print(r)"
   ]
  },
  {
   "cell_type": "code",
   "execution_count": 8,
   "id": "02becf11-f144-4bca-b5b8-61295419da29",
   "metadata": {},
   "outputs": [
    {
     "data": {
      "text/plain": [
       "<st_hello.root at 0x7f917d3df370>"
      ]
     },
     "execution_count": 8,
     "metadata": {},
     "output_type": "execute_result"
    }
   ],
   "source": [
    "pyk.root_dict['st_hello']"
   ]
  },
  {
   "cell_type": "code",
   "execution_count": 9,
   "id": "4a34efbb-8989-4145-93f2-30fe30c77e07",
   "metadata": {},
   "outputs": [],
   "source": [
    "\n",
    "def read_file(file_path):\n",
    "    with open(file_path, 'r') as f:\n",
    "        total_cmd_str = f.read()\n",
    "        total_cmd_str "
   ]
  },
  {
   "cell_type": "code",
   "execution_count": 37,
   "id": "48d3770f-28b6-46e9-a5ec-5e5ee96427cd",
   "metadata": {
    "tags": []
   },
   "outputs": [],
   "source": [
    "\n",
    "class fake_event:\n",
    "\n",
    "    def __init__(self, user_id, txt):\n",
    "        self.user_id = user_id\n",
    "        self.txt = txt\n",
    "\n",
    "    @property\n",
    "    def message(self):\n",
    "        txt = self.txt\n",
    "\n",
    "        class fake_message:\n",
    "            def __init__(self):\n",
    "                self.text = txt\n",
    "        return fake_message()\n",
    "\n",
    "    @property\n",
    "    def source(self):\n",
    "        user_id=self.user_id\n",
    "\n",
    "        class fake_source:\n",
    "            def __init__(self):\n",
    "                self.user_id = user_id\n",
    "        return fake_source()\n",
    "\n",
    "def read_file(file_path):\n",
    "    with open(file_path, 'r') as f:\n",
    "        total_block_str = f.read()\n",
    "        block_list = total_block_str.split('#')\n",
    "\n",
    "        user_block_list = []\n",
    "        for block in block_list[1:]:\n",
    "            cmd_list = block.split('\\n')\n",
    "            user_id = cmd_list[0].strip()\n",
    "            cmds = '\\n'.join(cmd_list[1:])\n",
    "            user_block_list.append((user_id, cmds))\n",
    "\n",
    "        return [\n",
    "            fake_event(user_id, cmds)\n",
    "            for user_id, cmds in user_block_list\n",
    "        ]\n"
   ]
  },
  {
   "cell_type": "code",
   "execution_count": 39,
   "id": "3fe1e45b-3a40-48b7-a712-22171968be0f",
   "metadata": {},
   "outputs": [
    {
     "data": {
      "text/plain": [
       "[<__main__.fake_event at 0x7f5bc3600970>,\n",
       " <__main__.fake_event at 0x7f5bc3600b20>]"
      ]
     },
     "execution_count": 39,
     "metadata": {},
     "output_type": "execute_result"
    }
   ],
   "source": [
    "fake_event_list = read_file(\"./st_hello.txt\")\n",
    "fake_event_list"
   ]
  },
  {
   "cell_type": "code",
   "execution_count": null,
   "id": "458919a6-6759-4739-8b26-1214c8f1944d",
   "metadata": {},
   "outputs": [],
   "source": []
  },
  {
   "cell_type": "code",
   "execution_count": 4,
   "id": "f5f70033-1c4b-46bc-a5d3-f2d9a1b9b146",
   "metadata": {},
   "outputs": [
    {
     "name": "stdout",
     "output_type": "stream",
     "text": [
      "=============================\n",
      "user:kkkkkk is_cmd:True\n",
      "=============================\n",
      "To kkkkkk\n",
      "[['嗨']]\n",
      "*********************\n",
      "hello kkkkkk\n",
      "\n",
      "=============================\n",
      "=============================\n",
      "user:jjjjj kkk is_cmd:True\n",
      "=============================\n",
      "To jjjjj kkk\n",
      "[['嗨']]\n",
      "*********************\n",
      "hello jjjjj\n",
      "\n",
      "=============================\n",
      "=============================\n",
      "user:kkkkkk is_cmd:False\n",
      "=============================\n",
      "None\n",
      "=============================\n",
      "\n"
     ]
    }
   ],
   "source": [
    "from test_static_kernal import run_file\n",
    "\n",
    "print(run_file(\"./st_hello.txt\"))"
   ]
  },
  {
   "cell_type": "code",
   "execution_count": 4,
   "id": "3c50bd3b-9f67-4c90-a649-744192b09c0c",
   "metadata": {},
   "outputs": [
    {
     "data": {
      "text/plain": [
       "['sss', 'sss ss ']"
      ]
     },
     "execution_count": 4,
     "metadata": {},
     "output_type": "execute_result"
    }
   ],
   "source": [
    "\"sss sss ss \".split(' ', 1)"
   ]
  },
  {
   "cell_type": "code",
   "execution_count": 3,
   "id": "bd59cbbf-c48a-4569-bda7-bc837f9fac5d",
   "metadata": {},
   "outputs": [
    {
     "data": {
      "text/plain": [
       "['sss', 'sss', 'ss', 'sss', 'sss', 'ss']"
      ]
     },
     "execution_count": 3,
     "metadata": {},
     "output_type": "execute_result"
    }
   ],
   "source": [
    "s = ['sss', 'sss', 'ss']\n",
    "s = [*s, *s]\n",
    "s"
   ]
  },
  {
   "cell_type": "code",
   "execution_count": 1,
   "id": "994436f7-7795-44c4-96d1-1766c22db610",
   "metadata": {},
   "outputs": [],
   "source": [
    "from init_kernal import InitKernal\n",
    "\n",
    "kernal = InitKernal()"
   ]
  },
  {
   "cell_type": "code",
   "execution_count": 3,
   "id": "7714f481-acb1-4361-b12f-64a8d17dcf3d",
   "metadata": {},
   "outputs": [
    {
     "ename": "AttributeError",
     "evalue": "'InitKernal' object has no attribute 'read_cmd'",
     "output_type": "error",
     "traceback": [
      "\u001b[0;31m---------------------------------------------------------------------------\u001b[0m",
      "\u001b[0;31mAttributeError\u001b[0m                            Traceback (most recent call last)",
      "Input \u001b[0;32mIn [3]\u001b[0m, in \u001b[0;36m<cell line: 1>\u001b[0;34m()\u001b[0m\n\u001b[0;32m----> 1\u001b[0m \u001b[43mkernal\u001b[49m\u001b[38;5;241;43m.\u001b[39;49m\u001b[43mread_cmd\u001b[49m\n",
      "\u001b[0;31mAttributeError\u001b[0m: 'InitKernal' object has no attribute 'read_cmd'"
     ]
    }
   ],
   "source": [
    "kernal.r"
   ]
  },
  {
   "cell_type": "code",
   "execution_count": null,
   "id": "c7898c6e-6bea-48b7-b715-c7dfd27dc794",
   "metadata": {},
   "outputs": [],
   "source": [
    "{\n",
    "    \"destination\":\"U1092cca2e37f01231c1ccd87daf319ba\",\n",
    "    \"events\":[\n",
    "        {\n",
    "            \"type\":\"message\",\n",
    "            \"message\":{\n",
    "                \"type\":\"text\",\n",
    "                \"id\":\"16918397849672\",\n",
    "                \"text\":\"%sta%\\npop:\"\n",
    "            },\n",
    "            \"webhookEventId\":\"01GEW3QR7E679TJSYP3Z8G662K\",\n",
    "            \"deliveryContext\":{\"isRedelivery\":false},\n",
    "            \"timestamp\":1665243275381,\n",
    "            \"source\":{\n",
    "                \"type\":\"user\",\n",
    "                \"userId\":\"Uba742bff56707b32d9944bf1ac3a4d26\"\n",
    "            },\n",
    "            \"replyToken\":\"7eb1323b58314be4a4b2d126f029d7fc\",\n",
    "            \"mode\":\"active\"\n",
    "        }\n",
    "    ]\n",
    "}"
   ]
  },
  {
   "cell_type": "code",
   "execution_count": null,
   "id": "52606ecb-d7bc-488a-a57a-34e454024dbe",
   "metadata": {},
   "outputs": [],
   "source": [
    "{\n",
    "    \"destination\":\"U1092cca2e37f01231c1ccd87daf319ba\",\n",
    "    \"events\":[\n",
    "        {\n",
    "            \"type\":\"message\",\n",
    "            \"message\":{\n",
    "                \"type\":\"text\",\n",
    "                \"id\":\"16918615205865\",\n",
    "                \"text\":\"%sta%\\npush: 456\"\n",
    "            },\n",
    "            \"webhookEventId\":\"01GEW7N5DJ59STNAB7V2EFKBYE\",\n",
    "            \"deliveryContext\":{\"isRedelivery\":false},\n",
    "            \"timestamp\":1665247384881,\n",
    "            \"source\":{\n",
    "                \"type\":\"group\",\n",
    "                \"groupId\":\"C1e96077ca3f575d13f4f7b5e4a6dedff\",\n",
    "                \"userId\":\"Uba742bff56707b32d9944bf1ac3a4d26\"\n",
    "            },\n",
    "            \"replyToken\":\"bee60586137e434f88a5112c575af5e8\",\n",
    "            \"mode\":\"active\"\n",
    "        }\n",
    "    ]\n",
    "}"
   ]
  }
 ],
 "metadata": {
  "kernelspec": {
   "display_name": "Python 3 (ipykernel)",
   "language": "python",
   "name": "python3"
  },
  "language_info": {
   "codemirror_mode": {
    "name": "ipython",
    "version": 3
   },
   "file_extension": ".py",
   "mimetype": "text/x-python",
   "name": "python",
   "nbconvert_exporter": "python",
   "pygments_lexer": "ipython3",
   "version": "3.10.4"
  }
 },
 "nbformat": 4,
 "nbformat_minor": 5
}
